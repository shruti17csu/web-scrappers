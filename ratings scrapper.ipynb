{
 "cells": [
  {
   "cell_type": "code",
   "execution_count": 23,
   "metadata": {},
   "outputs": [],
   "source": [
    "import requests\n",
    "\n",
    "URL = 'https://www.ambitionbox.com/reviews/amazon-reviews'\n",
    "page = requests.get(URL)"
   ]
  },
  {
   "cell_type": "code",
   "execution_count": 24,
   "metadata": {},
   "outputs": [],
   "source": [
    "from bs4 import BeautifulSoup\n",
    "soup = BeautifulSoup(page.content, 'html.parser')"
   ]
  },
  {
   "cell_type": "code",
   "execution_count": 25,
   "metadata": {},
   "outputs": [
    {
     "name": "stdout",
     "output_type": "stream",
     "text": [
      "<div class=\"company-content\" data-v-5bcc1cb3=\"\" id=\"ab_company-info-card\"><div class=\"company-logo\" style=\"--banner-color:#2E2D2C;\"><img alt=\"Amazon logo\" height=\"100\" onerror=\"this.onerror=null;this.src='https://static.ambitionbox.com/static/icons/company-placeholder.svg';\" src=\"https://static.ambitionbox.com/alpha/company/photos/logos/amazon.jpg\" width=\"100\"/></div> <div class=\"company-info-wrapper\"><div class=\"two-col\"><div class=\"company-info\"><p class=\"company-name bold-display\">\n",
      "          Amazon\n",
      "        </p> <div class=\"rating-wrapper\"><p class=\"rating rating-4\" title=\"Rating 4.15\"><i class=\"icon icon-star\"></i> <span class=\"bold-list-header\">\n",
      "              4.2\n",
      "            </span></p> <a href=\"https://www.ambitionbox.com/reviews/amazon-reviews\" rel=\"nofollow\" title=\"Amazon Reviews\"><p class=\"review-count caption-strong-medium\">\n",
      "              based on 4.9k\n",
      "              Reviews\n",
      "            </p></a></div></div> <div class=\"company-basic-info\"><div class=\"infoEntity\"><i class=\"icon icon-domain\"></i> <p class=\"sbold-list-header\">Private</p></div> <div class=\"infoEntity\"><i class=\"icon icon-pin-drop\"></i> <p class=\"sbold-list-header\">\n",
      "            Washington, United States\n",
      "          </p></div> <div class=\"infoEntity\"><i class=\"icon icon-access-time\"></i> <p class=\"sbold-list-header\">26 Years Old</p></div> <div class=\"infoEntity\"><i class=\"icon icon-supervisor-account\"></i> <p class=\"sbold-list-header\">\n",
      "            10000+ employees\n",
      "          </p></div></div> <div class=\"chips-block noscrollbars-sm\"><a class=\"ab_chip body-medium\" data-filter-name=\"chips_Company-Tags_consumer-goods\" href=\"/consumer-goods-companies-in-india\">\n",
      "          Consumer goods\n",
      "        </a><a class=\"ab_chip body-medium\" data-filter-name=\"chips_Company-Tags_internet\" href=\"/internet-companies-in-india\">\n",
      "          Internet\n",
      "        </a><a class=\"ab_chip body-medium\" data-filter-name=\"chips_Company-Tags_retail\" href=\"/retail-companies-in-india\">\n",
      "          Retail\n",
      "        </a><a class=\"ab_chip body-medium\" data-filter-name=\"chips_Company-Tags_mnc\" href=\"/mnc-companies-in-india\" style=\"display:none;\">\n",
      "          MNC\n",
      "        </a><a class=\"ab_chip body-medium\" data-filter-name=\"chips_Company-Tags_forbesglobal2000\" href=\"/forbesglobal2000-companies-in-india\" style=\"display:none;\">\n",
      "          Forbes Global 2000\n",
      "        </a> <a class=\"ab_chip body-medium\">\n",
      "          +2 more\n",
      "        </a></div></div></div> <div class=\"claim-col\"><div class=\"info\"><div class=\"title sbold-Labels\">\n",
      "        Is this your company?\n",
      "      </div> <a class=\"ctas-btn-medium\" href=\"https://employer.ambitionbox.com/signup\" target=\"_blank\">\n",
      "        Claim Account\n",
      "      </a></div> <button class=\"btn button-with-count\" count=\"2k\" data-v-06f982da=\"\" opcount=\"2027\" status=\"0\"></button></div></div>\n"
     ]
    }
   ],
   "source": [
    "results = soup.find(id='ab_company-info-card')\n",
    "print(results)"
   ]
  },
  {
   "cell_type": "code",
   "execution_count": 26,
   "metadata": {},
   "outputs": [
    {
     "name": "stdout",
     "output_type": "stream",
     "text": [
      "[<div class=\"two-col\"><div class=\"company-info\"><p class=\"company-name bold-display\">\n",
      "          Amazon\n",
      "        </p> <div class=\"rating-wrapper\"><p class=\"rating rating-4\" title=\"Rating 4.15\"><i class=\"icon icon-star\"></i> <span class=\"bold-list-header\">\n",
      "              4.2\n",
      "            </span></p> <a href=\"https://www.ambitionbox.com/reviews/amazon-reviews\" rel=\"nofollow\" title=\"Amazon Reviews\"><p class=\"review-count caption-strong-medium\">\n",
      "              based on 4.9k\n",
      "              Reviews\n",
      "            </p></a></div></div> <div class=\"company-basic-info\"><div class=\"infoEntity\"><i class=\"icon icon-domain\"></i> <p class=\"sbold-list-header\">Private</p></div> <div class=\"infoEntity\"><i class=\"icon icon-pin-drop\"></i> <p class=\"sbold-list-header\">\n",
      "            Washington, United States\n",
      "          </p></div> <div class=\"infoEntity\"><i class=\"icon icon-access-time\"></i> <p class=\"sbold-list-header\">26 Years Old</p></div> <div class=\"infoEntity\"><i class=\"icon icon-supervisor-account\"></i> <p class=\"sbold-list-header\">\n",
      "            10000+ employees\n",
      "          </p></div></div> <div class=\"chips-block noscrollbars-sm\"><a class=\"ab_chip body-medium\" data-filter-name=\"chips_Company-Tags_consumer-goods\" href=\"/consumer-goods-companies-in-india\">\n",
      "          Consumer goods\n",
      "        </a><a class=\"ab_chip body-medium\" data-filter-name=\"chips_Company-Tags_internet\" href=\"/internet-companies-in-india\">\n",
      "          Internet\n",
      "        </a><a class=\"ab_chip body-medium\" data-filter-name=\"chips_Company-Tags_retail\" href=\"/retail-companies-in-india\">\n",
      "          Retail\n",
      "        </a><a class=\"ab_chip body-medium\" data-filter-name=\"chips_Company-Tags_mnc\" href=\"/mnc-companies-in-india\" style=\"display:none;\">\n",
      "          MNC\n",
      "        </a><a class=\"ab_chip body-medium\" data-filter-name=\"chips_Company-Tags_forbesglobal2000\" href=\"/forbesglobal2000-companies-in-india\" style=\"display:none;\">\n",
      "          Forbes Global 2000\n",
      "        </a> <a class=\"ab_chip body-medium\">\n",
      "          +2 more\n",
      "        </a></div></div>]\n"
     ]
    }
   ],
   "source": [
    "job_elems = results.find_all(class_='two-col')\n",
    "print(job_elems)"
   ]
  },
  {
   "cell_type": "code",
   "execution_count": 27,
   "metadata": {},
   "outputs": [
    {
     "name": "stdout",
     "output_type": "stream",
     "text": [
      "COMPANY NAME: Amazon\n",
      "RATINGS: 4.2\n",
      "NO OF REVIEWS: based on 4.9k\n",
      "              Reviews\n",
      "\n"
     ]
    }
   ],
   "source": [
    "for job_elem in job_elems:\n",
    "    title_elem = job_elem.find(class_='company-name bold-display')\n",
    "    company_elem = job_elem.find(class_='bold-list-header')\n",
    "    location_elem = job_elem.find(class_='review-count caption-strong-medium')\n",
    "    if None in (title_elem, company_elem, location_elem):\n",
    "        continue\n",
    "    print(\"COMPANY NAME:\",title_elem.text.strip())\n",
    "    print(\"RATINGS:\",company_elem.text.strip())\n",
    "    print(\"NO OF REVIEWS:\",location_elem.text.strip())\n",
    "    print()"
   ]
  },
  {
   "cell_type": "code",
   "execution_count": 30,
   "metadata": {},
   "outputs": [],
   "source": [
    "\n",
    "import requests\n",
    "\n",
    "URL = 'https://www.fitchratings.com/entity/amazoncom-inc-96631782#ratings'\n",
    "page = requests.get(URL)"
   ]
  },
  {
   "cell_type": "code",
   "execution_count": 31,
   "metadata": {},
   "outputs": [
    {
     "ename": "WebDriverException",
     "evalue": "Message: 'chromedriver.exe' executable needs to be in PATH. Please see https://sites.google.com/a/chromium.org/chromedriver/home\n",
     "output_type": "error",
     "traceback": [
      "\u001b[1;31m---------------------------------------------------------------------------\u001b[0m",
      "\u001b[1;31mFileNotFoundError\u001b[0m                         Traceback (most recent call last)",
      "\u001b[1;32mC:\\ProgramData\\Anaconda3\\lib\\site-packages\\selenium\\webdriver\\common\\service.py\u001b[0m in \u001b[0;36mstart\u001b[1;34m(self)\u001b[0m\n\u001b[0;32m     75\u001b[0m                                             \u001b[0mstderr\u001b[0m\u001b[1;33m=\u001b[0m\u001b[0mself\u001b[0m\u001b[1;33m.\u001b[0m\u001b[0mlog_file\u001b[0m\u001b[1;33m,\u001b[0m\u001b[1;33m\u001b[0m\u001b[1;33m\u001b[0m\u001b[0m\n\u001b[1;32m---> 76\u001b[1;33m                                             stdin=PIPE)\n\u001b[0m\u001b[0;32m     77\u001b[0m         \u001b[1;32mexcept\u001b[0m \u001b[0mTypeError\u001b[0m\u001b[1;33m:\u001b[0m\u001b[1;33m\u001b[0m\u001b[1;33m\u001b[0m\u001b[0m\n",
      "\u001b[1;32mC:\\ProgramData\\Anaconda3\\lib\\subprocess.py\u001b[0m in \u001b[0;36m__init__\u001b[1;34m(self, args, bufsize, executable, stdin, stdout, stderr, preexec_fn, close_fds, shell, cwd, env, universal_newlines, startupinfo, creationflags, restore_signals, start_new_session, pass_fds, encoding, errors, text)\u001b[0m\n\u001b[0;32m    774\u001b[0m                                 \u001b[0merrread\u001b[0m\u001b[1;33m,\u001b[0m \u001b[0merrwrite\u001b[0m\u001b[1;33m,\u001b[0m\u001b[1;33m\u001b[0m\u001b[1;33m\u001b[0m\u001b[0m\n\u001b[1;32m--> 775\u001b[1;33m                                 restore_signals, start_new_session)\n\u001b[0m\u001b[0;32m    776\u001b[0m         \u001b[1;32mexcept\u001b[0m\u001b[1;33m:\u001b[0m\u001b[1;33m\u001b[0m\u001b[1;33m\u001b[0m\u001b[0m\n",
      "\u001b[1;32mC:\\ProgramData\\Anaconda3\\lib\\subprocess.py\u001b[0m in \u001b[0;36m_execute_child\u001b[1;34m(self, args, executable, preexec_fn, close_fds, pass_fds, cwd, env, startupinfo, creationflags, shell, p2cread, p2cwrite, c2pread, c2pwrite, errread, errwrite, unused_restore_signals, unused_start_new_session)\u001b[0m\n\u001b[0;32m   1177\u001b[0m                                          \u001b[0mos\u001b[0m\u001b[1;33m.\u001b[0m\u001b[0mfspath\u001b[0m\u001b[1;33m(\u001b[0m\u001b[0mcwd\u001b[0m\u001b[1;33m)\u001b[0m \u001b[1;32mif\u001b[0m \u001b[0mcwd\u001b[0m \u001b[1;32mis\u001b[0m \u001b[1;32mnot\u001b[0m \u001b[1;32mNone\u001b[0m \u001b[1;32melse\u001b[0m \u001b[1;32mNone\u001b[0m\u001b[1;33m,\u001b[0m\u001b[1;33m\u001b[0m\u001b[1;33m\u001b[0m\u001b[0m\n\u001b[1;32m-> 1178\u001b[1;33m                                          startupinfo)\n\u001b[0m\u001b[0;32m   1179\u001b[0m             \u001b[1;32mfinally\u001b[0m\u001b[1;33m:\u001b[0m\u001b[1;33m\u001b[0m\u001b[1;33m\u001b[0m\u001b[0m\n",
      "\u001b[1;31mFileNotFoundError\u001b[0m: [WinError 2] The system cannot find the file specified",
      "\nDuring handling of the above exception, another exception occurred:\n",
      "\u001b[1;31mWebDriverException\u001b[0m                        Traceback (most recent call last)",
      "\u001b[1;32m<ipython-input-31-f65b36e561eb>\u001b[0m in \u001b[0;36m<module>\u001b[1;34m\u001b[0m\n\u001b[0;32m      6\u001b[0m \u001b[1;32mfrom\u001b[0m \u001b[0mselenium\u001b[0m\u001b[1;33m.\u001b[0m\u001b[0mwebdriver\u001b[0m\u001b[1;33m.\u001b[0m\u001b[0mcommon\u001b[0m\u001b[1;33m.\u001b[0m\u001b[0mkeys\u001b[0m \u001b[1;32mimport\u001b[0m \u001b[0mKeys\u001b[0m\u001b[1;33m\u001b[0m\u001b[1;33m\u001b[0m\u001b[0m\n\u001b[0;32m      7\u001b[0m \u001b[1;33m\u001b[0m\u001b[0m\n\u001b[1;32m----> 8\u001b[1;33m \u001b[0mdriver\u001b[0m \u001b[1;33m=\u001b[0m \u001b[0mwebdriver\u001b[0m\u001b[1;33m.\u001b[0m\u001b[0mChrome\u001b[0m\u001b[1;33m(\u001b[0m\u001b[1;34m\"c:\\\\Users\\\\hp\\\\.wdm\\\\drivers\\\\chromedriver\\\\win32\\\\83.0.4103.39\\\\chromedriver.exe\"\u001b[0m\u001b[1;33m)\u001b[0m\u001b[1;33m\u001b[0m\u001b[1;33m\u001b[0m\u001b[0m\n\u001b[0m\u001b[0;32m      9\u001b[0m \u001b[1;33m\u001b[0m\u001b[0m\n\u001b[0;32m     10\u001b[0m \u001b[0mdriver\u001b[0m\u001b[1;33m.\u001b[0m\u001b[0mget\u001b[0m\u001b[1;33m(\u001b[0m\u001b[1;34m\"https://www.fitchratings.com/entity/ubs-ag-80359520#ratings\"\u001b[0m\u001b[1;33m)\u001b[0m\u001b[1;33m\u001b[0m\u001b[1;33m\u001b[0m\u001b[0m\n",
      "\u001b[1;32mC:\\ProgramData\\Anaconda3\\lib\\site-packages\\selenium\\webdriver\\chrome\\webdriver.py\u001b[0m in \u001b[0;36m__init__\u001b[1;34m(self, executable_path, port, options, service_args, desired_capabilities, service_log_path, chrome_options, keep_alive)\u001b[0m\n\u001b[0;32m     71\u001b[0m             \u001b[0mservice_args\u001b[0m\u001b[1;33m=\u001b[0m\u001b[0mservice_args\u001b[0m\u001b[1;33m,\u001b[0m\u001b[1;33m\u001b[0m\u001b[1;33m\u001b[0m\u001b[0m\n\u001b[0;32m     72\u001b[0m             log_path=service_log_path)\n\u001b[1;32m---> 73\u001b[1;33m         \u001b[0mself\u001b[0m\u001b[1;33m.\u001b[0m\u001b[0mservice\u001b[0m\u001b[1;33m.\u001b[0m\u001b[0mstart\u001b[0m\u001b[1;33m(\u001b[0m\u001b[1;33m)\u001b[0m\u001b[1;33m\u001b[0m\u001b[1;33m\u001b[0m\u001b[0m\n\u001b[0m\u001b[0;32m     74\u001b[0m \u001b[1;33m\u001b[0m\u001b[0m\n\u001b[0;32m     75\u001b[0m         \u001b[1;32mtry\u001b[0m\u001b[1;33m:\u001b[0m\u001b[1;33m\u001b[0m\u001b[1;33m\u001b[0m\u001b[0m\n",
      "\u001b[1;32mC:\\ProgramData\\Anaconda3\\lib\\site-packages\\selenium\\webdriver\\common\\service.py\u001b[0m in \u001b[0;36mstart\u001b[1;34m(self)\u001b[0m\n\u001b[0;32m     81\u001b[0m                 raise WebDriverException(\n\u001b[0;32m     82\u001b[0m                     \"'%s' executable needs to be in PATH. %s\" % (\n\u001b[1;32m---> 83\u001b[1;33m                         os.path.basename(self.path), self.start_error_message)\n\u001b[0m\u001b[0;32m     84\u001b[0m                 )\n\u001b[0;32m     85\u001b[0m             \u001b[1;32melif\u001b[0m \u001b[0merr\u001b[0m\u001b[1;33m.\u001b[0m\u001b[0merrno\u001b[0m \u001b[1;33m==\u001b[0m \u001b[0merrno\u001b[0m\u001b[1;33m.\u001b[0m\u001b[0mEACCES\u001b[0m\u001b[1;33m:\u001b[0m\u001b[1;33m\u001b[0m\u001b[1;33m\u001b[0m\u001b[0m\n",
      "\u001b[1;31mWebDriverException\u001b[0m: Message: 'chromedriver.exe' executable needs to be in PATH. Please see https://sites.google.com/a/chromium.org/chromedriver/home\n"
     ]
    }
   ],
   "source": [
    "from selenium import webdriver\n",
    "from selenium.webdriver.support.ui import WebDriverWait\n",
    "from selenium.webdriver.support import expected_conditions as EC\n",
    "from selenium.webdriver.common.by import By\n",
    "from selenium.common.exceptions import TimeoutException\n",
    "from selenium.webdriver.common.keys import Keys\n",
    "\n",
    "driver = webdriver.Chrome(\"c:\\\\Users\\\\hp\\\\.wdm\\\\drivers\\\\chromedriver\\\\win32\\\\83.0.4103.39\\\\chromedriver.exe\")\n",
    "\n",
    "driver.get(\"https://www.fitchratings.com/entity/ubs-ag-80359520#ratings\")\n",
    "\n",
    "delay = 3 # seconds\n",
    "try:\n",
    "    myElem = WebDriverWait(driver, delay).until(EC.presence_of_element_located((By.ID, 'IdOfMyElement')))\n",
    "    print(\"Page is ready!\")\n",
    "except TimeoutException:\n",
    "    print(\"Loading took too much time!\")\n",
    "\n",
    "for i in range(1,8):\n",
    "\tfor j in range(1,5):\n",
    "\t\tdata = driver.find_element_by_xpath('//*[@id=\"ratings\"]/div/div[2]/div[1]/div/div/div/table/tbody/tr[{}]/td[{}]'.format(i,j))\n",
    "\t\tprint(data.text)\n",
    "\n",
    "        "
   ]
  },
  {
   "cell_type": "code",
   "execution_count": null,
   "metadata": {},
   "outputs": [],
   "source": []
  }
 ],
 "metadata": {
  "kernelspec": {
   "display_name": "Python 3",
   "language": "python",
   "name": "python3"
  },
  "language_info": {
   "codemirror_mode": {
    "name": "ipython",
    "version": 3
   },
   "file_extension": ".py",
   "mimetype": "text/x-python",
   "name": "python",
   "nbconvert_exporter": "python",
   "pygments_lexer": "ipython3",
   "version": "3.7.3"
  }
 },
 "nbformat": 4,
 "nbformat_minor": 4
}
